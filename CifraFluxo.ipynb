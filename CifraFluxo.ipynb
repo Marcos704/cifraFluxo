{
  "nbformat": 4,
  "nbformat_minor": 0,
  "metadata": {
    "colab": {
      "provenance": []
    },
    "kernelspec": {
      "name": "python3",
      "display_name": "Python 3"
    },
    "language_info": {
      "name": "python"
    }
  },
  "cells": [
    {
      "cell_type": "code",
      "execution_count": 12,
      "metadata": {
        "colab": {
          "base_uri": "https://localhost:8080/"
        },
        "id": "AvHHymc-A8-K",
        "outputId": "c73163eb-98e8-4014-8bd6-1af225ae767f"
      },
      "outputs": [
        {
          "output_type": "stream",
          "name": "stdout",
          "text": [
            "-----|Entrada de dados|-----\n",
            "Chave_usuario: $@profile_01\n",
            "Mensagem_usuario: Mensagem secreta\n",
            "-----|Processamento de dados|-----\n",
            "Texto cifrado: 69251e010e010c01452c555256250413\n",
            "Texto decifrado: Mensagem secreta\n"
          ]
        }
      ],
      "source": [
        "class CifraFluxo:\n",
        "    def __init__(self, chave):\n",
        "        self.chave = chave\n",
        "        self.chave_comprimento = len(chave)\n",
        "\n",
        "    def encript_decript(self, texto):\n",
        "        return self.encript_decript_op(texto)\n",
        "\n",
        "    def encript_decript_op(self, texto):\n",
        "        retorno = []\n",
        "        texto_comprimento = len(texto)\n",
        "\n",
        "        for i in range(texto_comprimento):\n",
        "          # convertendo para ASCII\n",
        "            retorno_ASCII_mensagem = ord(texto[i])\n",
        "            retorno_ASCII_chave = ord(self.chave[i % self.chave_comprimento])\n",
        "          # REALIZANDO A OPERACAO XOR\n",
        "            retorno.append(chr(retorno_ASCII_mensagem ^ retorno_ASCII_chave))\n",
        "\n",
        "        return ''.join(retorno)\n",
        "\n",
        "# -------- UTILIZANDO .......\n",
        "chave_usuario    = \"$@profile_01\"\n",
        "mensagem_usuario = \"Mensagem secreta\"\n",
        "\n",
        "cifraFluxoOBJ = CifraFluxo(chave_usuario)\n",
        "mensagem_usuario_cript = cifraFluxoOBJ.encript_decript(mensagem_usuario)\n",
        "mensagem_usuario_decript = cifraFluxoOBJ.encript_decript(mensagem_usuario_cript)\n",
        "\n",
        "print(\"-----|Entrada de dados|-----\");\n",
        "print(\"Chave_usuario:\",chave_usuario);\n",
        "print(\"Mensagem_usuario:\",mensagem_usuario);\n",
        "print(\"-----|Processamento de dados|-----\");\n",
        "print(\"Texto cifrado:\", mensagem_usuario_cript.encode('utf-8').hex())\n",
        "print(\"Texto decifrado:\", mensagem_usuario_decript)\n"
      ]
    }
  ]
}